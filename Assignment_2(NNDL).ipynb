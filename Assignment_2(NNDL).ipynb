{
  "nbformat": 4,
  "nbformat_minor": 0,
  "metadata": {
    "colab": {
      "name": "Assignment 2(NNDL)",
      "provenance": [],
      "authorship_tag": "ABX9TyM0Os0P1Gn8YdE6W3n7Isl6",
      "include_colab_link": true
    },
    "kernelspec": {
      "name": "python3",
      "display_name": "Python 3"
    },
    "language_info": {
      "name": "python"
    }
  },
  "cells": [
    {
      "cell_type": "markdown",
      "metadata": {
        "id": "view-in-github",
        "colab_type": "text"
      },
      "source": [
        "<a href=\"https://colab.research.google.com/github/18K41A0476/NNDL/blob/main/Assignment_2(NNDL).ipynb\" target=\"_parent\"><img src=\"https://colab.research.google.com/assets/colab-badge.svg\" alt=\"Open In Colab\"/></a>"
      ]
    },
    {
      "cell_type": "code",
      "metadata": {
        "colab": {
          "base_uri": "https://localhost:8080/"
        },
        "id": "qVSoMZP97MTo",
        "outputId": "21815c7b-a2c7-4462-b1ed-6069e34d04eb"
      },
      "source": [
        "#library for symbolic mathematics\n",
        "from sympy import Symbol, Derivative, symbols  \n",
        "import random\n",
        "\n",
        "#step1 (initialize variables)\n",
        "x0 = random.randint(-9,9) \n",
        "y0 = random.randint(-9,9)\n",
        "epoches = 100\n",
        "learnrate = 0.1\n",
        "print(x0,y0)\n",
        "\n",
        "#step2 (1st derivative of the function)\n",
        "x=Symbol('x')\n",
        "y=Symbol('y')\n",
        "f=x**2+y**2+10\n",
        "fx=f.diff(x)\n",
        "fy=f.diff(y)\n",
        "\n",
        "#calculate value of 1st derivative at x0 & y0\n",
        "for i in range(0,epoches): # --> step5 (increments the iter i value)\n",
        "  dfx=fx.subs(x,x0)\n",
        "  dfy=fy.subs(y,y0)\n",
        "  dfx=round(dfx,2)\n",
        "  dfy=round(dfy,2)\n",
        "\n",
        "  #step3 (change in x,y values)\n",
        "  cx=-1*(learnrate)*dfx\n",
        "  cy=-1*(learnrate)*dfy\n",
        "  cx=round(cx,2)\n",
        "  cy=round(cy,2)\n",
        "\n",
        "  #step4 (update x & y values)\n",
        "  x0=x0+cx\n",
        "  y0=y0+cy\n",
        "  x0=round(x0,2)\n",
        "  y0=round(y0,2)\n",
        "  \n",
        "  #step6 (checks to break the loop or not)\n",
        "  if i>epoches:\n",
        "    break\n",
        "  else:\n",
        "    continue\n",
        "    #step7 (print the x,y)  ***here i didn't get function's min value as '0'***\n",
        "print('The minimum value obtained is, at x =',x0)\n",
        "print('The minimum value obtained is, at y =',y0)"
      ],
      "execution_count": 11,
      "outputs": [
        {
          "output_type": "stream",
          "text": [
            "2 5\n",
            "The minimum value obtained is, at x = 0.02\n",
            "The minimum value obtained is, at y = 0.02\n"
          ],
          "name": "stdout"
        }
      ]
    }
  ]
}