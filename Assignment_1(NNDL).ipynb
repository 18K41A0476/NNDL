{
  "nbformat": 4,
  "nbformat_minor": 0,
  "metadata": {
    "colab": {
      "name": "Assignment-1(NNDL)",
      "provenance": [],
      "authorship_tag": "ABX9TyNcaRueUUswNG6om3zKwqwf",
      "include_colab_link": true
    },
    "kernelspec": {
      "name": "python3",
      "display_name": "Python 3"
    }
  },
  "cells": [
    {
      "cell_type": "markdown",
      "metadata": {
        "id": "view-in-github",
        "colab_type": "text"
      },
      "source": [
        "<a href=\"https://colab.research.google.com/github/18K41A0476/NNDL/blob/main/Assignment_1(NNDL).ipynb\" target=\"_parent\"><img src=\"https://colab.research.google.com/assets/colab-badge.svg\" alt=\"Open In Colab\"/></a>"
      ]
    },
    {
      "cell_type": "code",
      "metadata": {
        "colab": {
          "base_uri": "https://localhost:8080/"
        },
        "id": "VzFv4lvgJI0h",
        "outputId": "bdb7125a-49e5-4b17-df5f-5d957788216f"
      },
      "source": [
        "from sympy import *\r\n",
        "x=Symbol('x')\r\n",
        "y=diff(x**4+3*x**2+10,x)\r\n",
        "z=1.0\r\n",
        "n=10\r\n",
        "learningrate=0.1\r\n",
        "for i in range(0,n):\r\n",
        "  x=symbols('x')\r\n",
        "  df=round(y.subs(x,z),2)\r\n",
        "  dx=(-1.0)*learningrate*df\r\n",
        "  z=round(z+dx,2)\r\n",
        "print(\"first order derivative of function is \",z)\r\n",
        "print('min value of function at x=',z,'is')\r\n",
        "f=x**4+3*x**2+10\r\n",
        "print(f.subs(x,z))"
      ],
      "execution_count": 7,
      "outputs": [
        {
          "output_type": "stream",
          "text": [
            "first order derivative of function is  0.0\n",
            "min value of function at x= 0.0 is\n",
            "10\n"
          ],
          "name": "stdout"
        }
      ]
    }
  ]
}