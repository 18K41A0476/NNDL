{
  "nbformat": 4,
  "nbformat_minor": 0,
  "metadata": {
    "colab": {
      "name": "Assignment 5(NNDL)",
      "provenance": [],
      "authorship_tag": "ABX9TyP182BJzZvDdZORA2658unb",
      "include_colab_link": true
    },
    "kernelspec": {
      "name": "python3",
      "display_name": "Python 3"
    },
    "language_info": {
      "name": "python"
    }
  },
  "cells": [
    {
      "cell_type": "markdown",
      "metadata": {
        "id": "view-in-github",
        "colab_type": "text"
      },
      "source": [
        "<a href=\"https://colab.research.google.com/github/18K41A0476/NNDL/blob/main/Assignment_5(NNDL).ipynb\" target=\"_parent\"><img src=\"https://colab.research.google.com/assets/colab-badge.svg\" alt=\"Open In Colab\"/></a>"
      ]
    },
    {
      "cell_type": "code",
      "metadata": {
        "colab": {
          "base_uri": "https://localhost:8080/"
        },
        "id": "LcFSTBkOiAw5",
        "outputId": "36b0630b-b92d-4670-e513-b2f2735b4ef0"
      },
      "source": [
        "from sympy import *\n",
        "import pandas as pd\n",
        "import random\n",
        "from math import *\n",
        "\n",
        "#step1\n",
        "m0=random.randint(-9,9)\n",
        "c0=random.randint(-9,9)\n",
        "# m0=1.0\n",
        "# c0=-1.0\n",
        "epoches=124\n",
        "learnrate=0.1\n",
        "bs0=2\n",
        "iter=0\n",
        "coun=0\n",
        "dm=0.0\n",
        "dc=0.0\n",
        "\n",
        "\n",
        "#step2\n",
        "q=pd.read_csv(\"/content/data.csv\")\n",
        "n0,m=q.shape\n",
        "trd=n0/bs0\n",
        "x,y,m,c,bs=symbols('x y m c bs')\n",
        "e=(1/(2*bs))*((y-(m*x)-c)**2)\n",
        "\n",
        "em=e.diff(m)\n",
        "ec=e.diff(c)\n",
        "print(em,ec)\n",
        "\n",
        "si=floor((90/100)*n0)\n",
        "#training..\n",
        "\n",
        "for k in range(iter,epoches):\n",
        "  for i in range(0,n0,bs0):\n",
        "    coun=0\n",
        "    dm=0.0\n",
        "    dc=0.0\n",
        "    while(1):\n",
        "      x1=q['x'][i]\n",
        "      y1=q['y'][i]\n",
        "      \n",
        "      dm=dm+em.subs([(m,m0),(c,c0),(x,x1),(y,y1),(bs,bs0)])\n",
        "      dc=dc+ec.subs([(m,m0),(c,c0),(x,x1),(y,y1),(bs,bs0)])\n",
        "      coun+=1\n",
        "      if coun == bs0:\n",
        "        break\n",
        "      else:\n",
        "        i+=1\n",
        "\n",
        "    cm = (-1.0)*(learnrate)*dm\n",
        "    cc = (-1.0)*(learnrate)*dc\n",
        "\n",
        "    m0 = m0+cm\n",
        "    m0 = round(m0,3)\n",
        "    c0 = c0+cc\n",
        "    c0 = round(c0,3)\n",
        "  \n",
        "\n",
        "\n",
        "print('m = ',m0,', c = ',c0)\n",
        "\n"
      ],
      "execution_count": 6,
      "outputs": [
        {
          "output_type": "stream",
          "text": [
            "-x*(-c - m*x + y)/bs (2*c + 2*m*x - 2*y)/(2*bs)\n",
            "m =  0.139 , c =  3.968\n"
          ],
          "name": "stdout"
        }
      ]
    },
    {
      "cell_type": "code",
      "metadata": {
        "colab": {
          "base_uri": "https://localhost:8080/"
        },
        "id": "3mlUkRL1kCCt",
        "outputId": "2d05f7ea-e18a-40c9-9f07-71da9ccc9a55"
      },
      "source": [
        "from sklearn.metrics import mean_squared_error \n",
        "ya=[]\n",
        "yp=[]\n",
        "\n",
        "for i in range(n0):\n",
        "    ya.append(q['y'][i])\n",
        "\n",
        "for i in range(n0):\n",
        "  x1=q['x'][i]\n",
        "  e=(m*x)+c\n",
        "  y1=e.subs([(m,m0),(x,x1),(c,c0)])\n",
        "  yp.append(y1)\n",
        "    \n",
        "print(mean_squared_error(ya, yp))"
      ],
      "execution_count": 4,
      "outputs": [
        {
          "output_type": "stream",
          "text": [
            "0.11666333675384516\n"
          ],
          "name": "stdout"
        }
      ]
    }
  ]
}