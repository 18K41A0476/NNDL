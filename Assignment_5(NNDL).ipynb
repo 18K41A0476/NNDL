{
  "nbformat": 4,
  "nbformat_minor": 0,
  "metadata": {
    "colab": {
      "name": "Assignment 5(NNDL)",
      "provenance": [],
      "authorship_tag": "ABX9TyPWtHJywxmdq8Upkt2Y1yoc",
      "include_colab_link": true
    },
    "kernelspec": {
      "name": "python3",
      "display_name": "Python 3"
    },
    "language_info": {
      "name": "python"
    }
  },
  "cells": [
    {
      "cell_type": "markdown",
      "metadata": {
        "id": "view-in-github",
        "colab_type": "text"
      },
      "source": [
        "<a href=\"https://colab.research.google.com/github/18K41A0476/NNDL/blob/main/Assignment_5(NNDL).ipynb\" target=\"_parent\"><img src=\"https://colab.research.google.com/assets/colab-badge.svg\" alt=\"Open In Colab\"/></a>"
      ]
    },
    {
      "cell_type": "code",
      "metadata": {
        "colab": {
          "base_uri": "https://localhost:8080/"
        },
        "id": "lWfTrpL4kAAc",
        "outputId": "7d3d3d83-5d19-45b2-8975-198dcca711b0"
      },
      "source": [
        "from sympy import Symbol, Derivative, symbols\n",
        "m= Symbol('m')\n",
        "c= Symbol('c')\n",
        "function = '0.5*(y-m*x-c)**2'\n",
        "partial_deriv= Derivative(function, m)\n",
        "dfm = partial_deriv.doit()\n",
        "partial_deriv= Derivative(function, c)\n",
        "dfc = partial_deriv.doit()\n",
        "x1 = [0.2,0.4,0.6,0.8]\n",
        "y1 = [2.4,3.8,4.2,4.6]\n",
        "\n",
        "print(f'first order derivatives of given function are de/dm = {dfm} ,de/dc = {dfc}')\n",
        "\n",
        "#step 1 initialise values\n",
        "bs = 2 #batch size\n",
        "m1 = 1.0 \n",
        "c1 = -1.0  \n",
        "itr = 1000  \n",
        "learning_rate = 0.1  \n",
        "\n",
        "ns = len(x1)\n",
        "nb = ns//bs\n",
        "ms = ns%bs\n",
        "\n",
        "\n",
        "for i in range(0,itr):\n",
        "    for k in range(0,nb):\n",
        "        df_dm1 = 0\n",
        "        df_dc1 = 0\n",
        "        for j in range(0,bs):\n",
        "            index = k*bs + j\n",
        "            #step 2 substitute x ,y in first order derivatives df/dx, df/dy\n",
        "            m = symbols('m')\n",
        "            c = symbols('c')\n",
        "            x = symbols('x')\n",
        "            y = symbols('y')\n",
        "            df_dm = dfm.subs(m, m1) \n",
        "            df_dm = df_dm.subs(c, c1) \n",
        "            df_dm = df_dm.subs(x, x1[index]) \n",
        "            df_dm = df_dm.subs(y, y1[index]) \n",
        "            df_dm = round(df_dm,2)\n",
        "            df_dc = dfc.subs(c, c1) \n",
        "            df_dc = df_dc.subs(m, m1) \n",
        "            df_dc = df_dc.subs(x, x1[index]) \n",
        "            df_dc = df_dc.subs(y, y1[index]) \n",
        "            df_dc = round(df_dc,2)\n",
        "            df_dm1 += df_dm\n",
        "            df_dc1 += df_dc\n",
        "            \n",
        "        df_dm1 = df_dm1/bs\n",
        "        df_dc1 = df_dc1/bs\n",
        "\n",
        "        df_dm1 = round(df_dm1,2)\n",
        "        df_dc1 = round(df_dc1,2)\n",
        "        #step3 find change in x , y\n",
        "        dm = (-1.0)*learning_rate*df_dm1\n",
        "        dc = (-1.0)*learning_rate*df_dc1\n",
        "        #step4 update variable \n",
        "        m1 = m1 + dm \n",
        "        c1 = c1 + dc\n",
        "        #step5 increment iterations \n",
        "        #step6 break loop if iterations exceed no of epoches\n",
        "k = nb\n",
        "if(ms>0):\n",
        "    df_dm1 = 0\n",
        "    df_dc1 = 0\n",
        "    for j in range(0,ms):\n",
        "        index = k*bs + j\n",
        "        #step 2 substitute x ,y in first order derivatives df/dx, df/dy\n",
        "        m = symbols('m')\n",
        "        c = symbols('c')\n",
        "        x = symbols('x')\n",
        "        y = symbols('y')\n",
        "        df_dm = dfm.subs(m, m1) \n",
        "        df_dm = df_dm.subs(c, c1) \n",
        "        df_dm = df_dm.subs(x, x1[index]) \n",
        "        df_dm = df_dm.subs(y, y1[index]) \n",
        "        df_dc = dfc.subs(c, c1) \n",
        "        df_dc = df_dc.subs(m, m1) \n",
        "        df_dc = df_dc.subs(x, x1[index]) \n",
        "        df_dc = df_dc.subs(y, y1[index]) \n",
        "        df_dm1 += df_dm\n",
        "        df_dc1 += df_dc\n",
        "\n",
        "    df_dm1 = df_dm1/ms\n",
        "    df_dc1 = df_dc1/ms\n",
        "\n",
        "    #step3 find change in x , y\n",
        "    dm = (-1.0)*learning_rate*df_dm1\n",
        "    dc = (-1.0)*learning_rate*df_dc1\n",
        "    #step4 update variable \n",
        "    m1 = m1 + dm \n",
        "    c1 = c1 + dc\n",
        "#step7 print variable x1, y1\n",
        "m1= round(m1,2)\n",
        "c1= round(c1,2)\n",
        "print(m1, c1)\n",
        "print(f'minimum value obtained at m = {m1} ,c ={c1} for given function')\n"
      ],
      "execution_count": 11,
      "outputs": [
        {
          "output_type": "stream",
          "text": [
            "first order derivatives of given function are de/dm = -1.0*x*(-c - m*x + y) ,de/dc = 1.0*c + 1.0*m*x - 1.0*y\n",
            "3.33 2.09\n",
            "minimum value obtained at m = 3.33 ,c =2.09 for given function\n"
          ],
          "name": "stdout"
        }
      ]
    },
    {
      "cell_type": "code",
      "metadata": {
        "colab": {
          "base_uri": "https://localhost:8080/",
          "height": 295
        },
        "id": "P49Jrq7ifV_2",
        "outputId": "79d3127f-3d16-4b24-c548-0caf47d87c64"
      },
      "source": [
        "import matplotlib.pyplot as plt\n",
        "import numpy as np\n",
        "x = np.linspace(-5,5,100)\n",
        "y = m1*x+c1\n",
        "plt.plot(x, y, '-r', label='y='+str(m1)+'x+'+str(c1))\n",
        "plt.title('Graph of '+'y='+str(m1)+'x+'+str(c1))\n",
        "plt.xlabel('x', color='#1C2833')\n",
        "plt.ylabel('y', color='#1C2833')\n",
        "plt.legend(loc='upper left')\n",
        "plt.grid()\n",
        "plt.show()"
      ],
      "execution_count": 9,
      "outputs": [
        {
          "output_type": "display_data",
          "data": {
            "image/png": "[encoded data removed]",
            "text/plain": [
              "<Figure size 432x288 with 1 Axes>"
            ]
          },
          "metadata": {
            "tags": [],
            "needs_background": "light"
          }
        }
      ]
    }
  ]
}